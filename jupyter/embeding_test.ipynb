{
 "cells": [
  {
   "cell_type": "code",
   "execution_count": 1,
   "metadata": {},
   "outputs": [
    {
     "name": "stderr",
     "output_type": "stream",
     "text": [
      "c:\\Users\\csu52\\anaconda3\\envs\\csu\\lib\\site-packages\\sentence_transformers\\cross_encoder\\CrossEncoder.py:13: TqdmWarning: IProgress not found. Please update jupyter and ipywidgets. See https://ipywidgets.readthedocs.io/en/stable/user_install.html\n",
      "  from tqdm.autonotebook import tqdm, trange\n",
      "c:\\Users\\csu52\\anaconda3\\envs\\csu\\lib\\site-packages\\transformers\\utils\\hub.py:128: FutureWarning: Using `TRANSFORMERS_CACHE` is deprecated and will be removed in v5 of Transformers. Use `HF_HOME` instead.\n",
      "  warnings.warn(\n"
     ]
    }
   ],
   "source": [
    "import pickle\n",
    "import os\n",
    "os.environ['TRANSFORMERS_CACHE'] = \"../models\"\n",
    "from sentence_transformers import SentenceTransformer, util"
   ]
  },
  {
   "cell_type": "code",
   "execution_count": 2,
   "metadata": {},
   "outputs": [],
   "source": [
    "# pkl 파일 로드\n",
    "file_path = \"../data/final_result.pkl\"  # pkl 파일 경로를 지정하세요.\n",
    "\n",
    "with open(file_path, \"rb\") as f:\n",
    "    faq_data = pickle.load(f)\n"
   ]
  },
  {
   "cell_type": "code",
   "execution_count": 10,
   "metadata": {},
   "outputs": [],
   "source": [
    "# model_name = \"all-MiniLM-L6-v2\"\n",
    "# model_name = \"dragonkue/BGE-m3-ko\"\n",
    "# model_name = \"jhgan/ko-sroberta-multitask\"\n",
    "model_name = \"upskyy/bge-m3-korean\"\n",
    "# model_name = \"sentence-transformers/paraphrase-multilingual-MiniLM-L12-v2\"\n",
    "# model_name = \"nlpai-lab/KoE5\""
   ]
  },
  {
   "cell_type": "code",
   "execution_count": 11,
   "metadata": {},
   "outputs": [],
   "source": [
    "# FAQ 데이터 질문 벡터화\n",
    "# - faq_questions: FAQ 데이터의 질문 리스트\n",
    "# - faq_embeddings: FAQ 질문들을 벡터로 변환 (한 번만 수행됨)\n",
    "\n",
    "model = SentenceTransformer(model_name)\n",
    "faq_questions = list(faq_data.keys())\n",
    "faq_embeddings = model.encode(faq_questions, convert_to_tensor=True)"
   ]
  },
  {
   "cell_type": "code",
   "execution_count": 5,
   "metadata": {},
   "outputs": [
    {
     "data": {
      "text/plain": [
       "['상품 등록이 안되요',\n",
       " '결제수단을 변경하고 싶어요',\n",
       " '할인쿠폰 발급하려면 어떻게 해야되나요?',\n",
       " '고객리뷰를 삭제하고 싶어요',\n",
       " '배송조회는 어떻게 하나요?',\n",
       " '판매수수료는 어떻게 볼 수 있나요?',\n",
       " '계정을 탈퇴하고 싶어요',\n",
       " '오늘 날씨는 어때요?',\n",
       " '여의도 근처 맛집 추천 좀 해주세요.',\n",
       " 'BTS 멤버는 몇 명인가요?']"
      ]
     },
     "execution_count": 5,
     "metadata": {},
     "output_type": "execute_result"
    }
   ],
   "source": [
    "file_path = \"../data/test_question.txt\"\n",
    "\n",
    "with open(file_path, \"r\", encoding=\"utf-8\") as file:\n",
    "    questions = [text.strip() for text in file.readlines()]\n",
    "questions"
   ]
  },
  {
   "cell_type": "code",
   "execution_count": 6,
   "metadata": {},
   "outputs": [],
   "source": [
    "# # 특정 단어 검색 함수\n",
    "# def search_in_dict(data, keyword):\n",
    "#     \"\"\"\n",
    "#     주어진 딕셔너리에서 특정 키워드가 포함된 key와 value를 찾는 함수.\n",
    "#     :param data: 딕셔너리 (예: faq_data)\n",
    "#     :param keyword: 검색할 키워드 (예: \"스마트스토어\")\n",
    "#     :return: 검색 결과 리스트\n",
    "#     \"\"\"\n",
    "#     results = []\n",
    "#     for key, value in data.items():\n",
    "#         if keyword in key:  # key에서 키워드 포함 여부 확인\n",
    "#             results.append((key, value))\n",
    "#     return results\n",
    "\n",
    "# # 키워드 검색\n",
    "# keyword = \"결제수단\"\n",
    "# matches = search_in_dict(faq_data, keyword)\n",
    "# matches"
   ]
  },
  {
   "cell_type": "code",
   "execution_count": 9,
   "metadata": {},
   "outputs": [
    {
     "name": "stdout",
     "output_type": "stream",
     "text": [
      "사용자 질문: 상품 등록이 안되요\n",
      "유사 질문: ★ 상품등록하는 방법\n",
      "유사도: 0.7856465578079224\n",
      "----------------------------------------------------------------------------------------------------\n",
      "사용자 질문: 결제수단을 변경하고 싶어요\n",
      "유사 질문: 취소 환불 시 구매자가 환불받을 계좌를 변경할 수 있나요?\n",
      "유사도: 0.5694704055786133\n",
      "----------------------------------------------------------------------------------------------------\n",
      "사용자 질문: 할인쿠폰 발급하려면 어떻게 해야되나요?\n",
      "유사 질문: [혜택 등록] 쿠폰 발행 할때 최대 할인은 얼마까지 되나요?\n",
      "유사도: 0.6560598015785217\n",
      "----------------------------------------------------------------------------------------------------\n",
      "사용자 질문: 고객리뷰를 삭제하고 싶어요\n",
      "유사 질문: 베스트리뷰(스토어Pick)로 선정한 리뷰는 고객이 삭제할 수 없나요?\n",
      "유사도: 0.7427887320518494\n",
      "----------------------------------------------------------------------------------------------------\n",
      "사용자 질문: 배송조회는 어떻게 하나요?\n",
      "유사 질문: 희망일배송 주문 확인은 어떻게 하나요?\n",
      "유사도: 0.7133914232254028\n",
      "----------------------------------------------------------------------------------------------------\n",
      "사용자 질문: 판매수수료는 어떻게 볼 수 있나요?\n",
      "유사 질문: 수수료는 어떤 금액 기준으로 적용 되나요?\n",
      "유사도: 0.6526105999946594\n",
      "----------------------------------------------------------------------------------------------------\n",
      "사용자 질문: 계정을 탈퇴하고 싶어요\n",
      "유사 질문: [비즈니스 금융센터] 회원탈퇴는 어떻게 하나요?\n",
      "유사도: 0.6355854272842407\n",
      "----------------------------------------------------------------------------------------------------\n",
      "사용자 질문: 오늘 날씨는 어때요?\n",
      "유사 질문: 오늘출발 가능수량은 어떻게 되나요?\n",
      "유사도: 0.47705039381980896\n",
      "----------------------------------------------------------------------------------------------------\n",
      "사용자 질문: 여의도 근처 맛집 추천 좀 해주세요.\n",
      "유사 질문: ★ 선물 수락대기 메뉴 안내\n",
      "유사도: 0.23461014032363892\n",
      "----------------------------------------------------------------------------------------------------\n",
      "사용자 질문: BTS 멤버는 몇 명인가요?\n",
      "유사 질문: [해외 판매자 전용] BSB가 무엇인가요?\n",
      "유사도: 0.2815093696117401\n",
      "----------------------------------------------------------------------------------------------------\n"
     ]
    }
   ],
   "source": [
    "for question in questions:\n",
    "    # 사용자 질문을 벡터로 변환\n",
    "    query_embedding = model.encode(question, convert_to_tensor=True)\n",
    "    \n",
    "    # FAQ 데이터와 코사인 유사도 계산\n",
    "    scores = util.pytorch_cos_sim(query_embedding, faq_embeddings)\n",
    "    \n",
    "    # 가장 높은 유사도를 가진 FAQ 질문의 인덱스 및 점수 반환\n",
    "    best_idx = scores.argmax().item()\n",
    "    print(\"사용자 질문: %s\"%question)\n",
    "    print(\"유사 질문: %s\"%faq_questions[best_idx])\n",
    "    print(\"유사도: %s\"%scores[0][best_idx].item())\n",
    "    print(\"-\"*100)"
   ]
  }
 ],
 "metadata": {
  "kernelspec": {
   "display_name": "csu",
   "language": "python",
   "name": "python3"
  },
  "language_info": {
   "codemirror_mode": {
    "name": "ipython",
    "version": 3
   },
   "file_extension": ".py",
   "mimetype": "text/x-python",
   "name": "python",
   "nbconvert_exporter": "python",
   "pygments_lexer": "ipython3",
   "version": "3.8.19"
  }
 },
 "nbformat": 4,
 "nbformat_minor": 2
}
