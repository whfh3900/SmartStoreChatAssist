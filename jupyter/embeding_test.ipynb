{
 "cells": [
  {
   "cell_type": "code",
   "execution_count": 1,
   "metadata": {},
   "outputs": [
    {
     "name": "stderr",
     "output_type": "stream",
     "text": [
      "c:\\Users\\csu52\\anaconda3\\envs\\csu\\lib\\site-packages\\sentence_transformers\\cross_encoder\\CrossEncoder.py:13: TqdmWarning: IProgress not found. Please update jupyter and ipywidgets. See https://ipywidgets.readthedocs.io/en/stable/user_install.html\n",
      "  from tqdm.autonotebook import tqdm, trange\n",
      "c:\\Users\\csu52\\anaconda3\\envs\\csu\\lib\\site-packages\\transformers\\utils\\hub.py:128: FutureWarning: Using `TRANSFORMERS_CACHE` is deprecated and will be removed in v5 of Transformers. Use `HF_HOME` instead.\n",
      "  warnings.warn(\n"
     ]
    }
   ],
   "source": [
    "import pickle\n",
    "import os\n",
    "os.environ['TRANSFORMERS_CACHE'] = \"../models\"\n",
    "from sentence_transformers import SentenceTransformer, util"
   ]
  },
  {
   "cell_type": "code",
   "execution_count": 2,
   "metadata": {},
   "outputs": [],
   "source": [
    "# pkl 파일 로드\n",
    "file_path = \"../data/final_result.pkl\"  # pkl 파일 경로를 지정하세요.\n",
    "\n",
    "with open(file_path, \"rb\") as f:\n",
    "    faq_data = pickle.load(f)\n"
   ]
  },
  {
   "cell_type": "code",
   "execution_count": 10,
   "metadata": {},
   "outputs": [],
   "source": [
    "# model_name = \"all-MiniLM-L6-v2\"\n",
    "# model_name = \"dragonkue/BGE-m3-ko\"\n",
    "model_name = \"jhgan/ko-sroberta-multitask\"\n"
   ]
  },
  {
   "cell_type": "code",
   "execution_count": 11,
   "metadata": {},
   "outputs": [
    {
     "name": "stderr",
     "output_type": "stream",
     "text": [
      "c:\\Users\\csu52\\anaconda3\\envs\\csu\\lib\\site-packages\\huggingface_hub\\file_download.py:157: UserWarning: `huggingface_hub` cache-system uses symlinks by default to efficiently store duplicated files but your machine does not support them in C:\\Users\\csu52\\.cache\\huggingface\\hub\\models--jhgan--ko-sroberta-multitask. Caching files will still work but in a degraded version that might require more space on your disk. This warning can be disabled by setting the `HF_HUB_DISABLE_SYMLINKS_WARNING` environment variable. For more details, see https://huggingface.co/docs/huggingface_hub/how-to-cache#limitations.\n",
      "To support symlinks on Windows, you either need to activate Developer Mode or to run Python as an administrator. In order to see activate developer mode, see this article: https://docs.microsoft.com/en-us/windows/apps/get-started/enable-your-device-for-development\n",
      "  warnings.warn(message)\n",
      "c:\\Users\\csu52\\anaconda3\\envs\\csu\\lib\\site-packages\\huggingface_hub\\file_download.py:157: UserWarning: `huggingface_hub` cache-system uses symlinks by default to efficiently store duplicated files but your machine does not support them in C:\\Users\\csu52\\work\\test\\SmartStoreChatAssist\\models\\models--jhgan--ko-sroberta-multitask. Caching files will still work but in a degraded version that might require more space on your disk. This warning can be disabled by setting the `HF_HUB_DISABLE_SYMLINKS_WARNING` environment variable. For more details, see https://huggingface.co/docs/huggingface_hub/how-to-cache#limitations.\n",
      "To support symlinks on Windows, you either need to activate Developer Mode or to run Python as an administrator. In order to see activate developer mode, see this article: https://docs.microsoft.com/en-us/windows/apps/get-started/enable-your-device-for-development\n",
      "  warnings.warn(message)\n"
     ]
    }
   ],
   "source": [
    "# FAQ 데이터 질문 벡터화\n",
    "# - faq_questions: FAQ 데이터의 질문 리스트\n",
    "# - faq_embeddings: FAQ 질문들을 벡터로 변환 (한 번만 수행됨)\n",
    "\n",
    "model = SentenceTransformer(model_name)\n",
    "faq_questions = list(faq_data.keys())\n",
    "faq_embeddings = model.encode(faq_questions, convert_to_tensor=True)"
   ]
  },
  {
   "cell_type": "code",
   "execution_count": 12,
   "metadata": {},
   "outputs": [
    {
     "data": {
      "text/plain": [
       "['상품 등록이 안되요',\n",
       " '결제수단을 변경하고 싶어요',\n",
       " '할인쿠폰 발급하려면 어떻게 해야되나요?',\n",
       " '고객리뷰를 삭제하고 싶어요',\n",
       " '배송조회는 어떻게 하나요?',\n",
       " '판매수수료는 어떻게 볼 수 있나요?',\n",
       " '계정을 탈퇴하고 싶어요',\n",
       " '오늘 날씨는 어때요?',\n",
       " '여의도 근처 맛집 추천 좀 해주세요.',\n",
       " 'BTS 멤버는 몇 명인가요?']"
      ]
     },
     "execution_count": 12,
     "metadata": {},
     "output_type": "execute_result"
    }
   ],
   "source": [
    "file_path = \"../data/test_question.txt\"\n",
    "\n",
    "with open(file_path, \"r\", encoding=\"utf-8\") as file:\n",
    "    questions = [text.strip() for text in file.readlines()]\n",
    "questions"
   ]
  },
  {
   "cell_type": "code",
   "execution_count": 13,
   "metadata": {},
   "outputs": [
    {
     "data": {
      "text/plain": [
       "[(\"건별 정산내역에서 '보조결제수단2'가 무엇인가요?\",\n",
       "  \"'보조결제수단2'은 구매자가 후불결제를 이용하였을 때 적용되는 네이버페이 보조결제수단입니다.\\xa0\\xa0\\xa0\\xa0\\xa0\\xa0\\xa0\\xa0\\xa0보조결제수단 구분\\xa0· 보조결제수단1 : 네이버페이 포인트-머니\\xa0· 보조결제수단2 : 네이버페이 후불결제 \\xa0\\xa0\\xa0\\xa0\\xa0\\xa0\\xa0\\xa0 ※ 참고.구매자가 후불결제 납부대금을 네이버페이에 납부하지 않더라도 판매자님 정산대금에 대한\\xa0지급에는 영향이 없습니다.\\n\\n\\n위 도움말이 도움이 되었나요?\\n\\n\\n별점1점\\n\\n별점2점\\n\\n별점3점\\n\\n별점4점\\n\\n별점5점\\n\\n\\n\\n소중한 의견을 남겨주시면 보완하도록 노력하겠습니다.\\n\\n보내기\\n\\n\\n\\n도움말 닫기\"),\n",
       " ('네이버페이 비즈월렛 예약충전 시 네이버페이 간편 결제 외 다른 결제수단을 사용하고 싶습니다.',\n",
       "  \"네이버페이 비즈월렛 예약충전은 '네이버페이 간편 결제(카드/계좌)'\\xa0만 제공 됩니다.※ 참고.\\xa0· 네이버페이 카드/계좌 간편결제를 이용하는 경우 결제를 원하는 네이버 ID는 네이버페이에 가입되어 있어야 하며, 결제는 로그인한 네이버 ID의 본인명의 계좌 및 카드로만 결제가 가능합니다. (법인카드의 경우 개인명의 법인카드만 사용 가능)· 예약충전은 간편 결제(카드/계좌)만 제공하므로 해당 결제형태로 불가능할 경우 [정산관리 > 비즈월렛 관리] 내역조회 내 'Npay 비즈월렛 충전하기' 클릭하여 다른 결제 수단을 선택해주시기 바랍니다. (1회성)\\n\\n\\n위 도움말이 도움이 되었나요?\\n\\n\\n별점1점\\n\\n별점2점\\n\\n별점3점\\n\\n별점4점\\n\\n별점5점\\n\\n\\n\\n소중한 의견을 남겨주시면 보완하도록 노력하겠습니다.\\n\\n보내기\\n\\n\\n\\n도움말 닫기\"),\n",
       " (\"[커머스솔루션] 정기결제 수단 등록(변경)을 위해 결제수단 선택 후 '동의하고 등록하기'버튼 클릭 시 비밀번호 입력이 필요하나, 기억나지 않습니다.\",\n",
       "  '비밀번호 재설정 클릭 후 본인 인증(휴대전화 ARS 인증)을 통해 변경 후 재시도해 주세요.\\xa0\\xa0\\n\\n\\n위 도움말이 도움이 되었나요?\\n\\n\\n별점1점\\n\\n별점2점\\n\\n별점3점\\n\\n별점4점\\n\\n별점5점\\n\\n\\n\\n소중한 의견을 남겨주시면 보완하도록 노력하겠습니다.\\n\\n보내기\\n\\n\\n\\n도움말 닫기')]"
      ]
     },
     "execution_count": 13,
     "metadata": {},
     "output_type": "execute_result"
    }
   ],
   "source": [
    "# 특정 단어 검색 함수\n",
    "def search_in_dict(data, keyword):\n",
    "    \"\"\"\n",
    "    주어진 딕셔너리에서 특정 키워드가 포함된 key와 value를 찾는 함수.\n",
    "    :param data: 딕셔너리 (예: faq_data)\n",
    "    :param keyword: 검색할 키워드 (예: \"스마트스토어\")\n",
    "    :return: 검색 결과 리스트\n",
    "    \"\"\"\n",
    "    results = []\n",
    "    for key, value in data.items():\n",
    "        if keyword in key:  # key에서 키워드 포함 여부 확인\n",
    "            results.append((key, value))\n",
    "    return results\n",
    "\n",
    "# 키워드 검색\n",
    "keyword = \"결제수단\"\n",
    "matches = search_in_dict(faq_data, keyword)\n",
    "matches"
   ]
  },
  {
   "cell_type": "code",
   "execution_count": 14,
   "metadata": {},
   "outputs": [
    {
     "name": "stdout",
     "output_type": "stream",
     "text": [
      "사용자 질문: 상품 등록이 안되요\n",
      "유사 질문: 상품한도 수가 하향되어 상품등록이 안돼요.\n",
      "유사도: 0.7487395405769348\n",
      "----------------------------------------------------------------------------------------------------\n",
      "사용자 질문: 결제수단을 변경하고 싶어요\n",
      "유사 질문: [스마트스토어][미래에셋캐피탈] 이자납입일, 할부상환일을 변경하고 싶어요.\n",
      "유사도: 0.6875236630439758\n",
      "----------------------------------------------------------------------------------------------------\n",
      "사용자 질문: 할인쿠폰 발급하려면 어떻게 해야되나요?\n",
      "유사 질문: [혜택 등록] 쿠폰 발행 할때 최대 할인은 얼마까지 되나요?\n",
      "유사도: 0.8492682576179504\n",
      "----------------------------------------------------------------------------------------------------\n",
      "사용자 질문: 고객리뷰를 삭제하고 싶어요\n",
      "유사 질문: [문의관리(Q&A)]  '답글'한 내용을 삭제하고 싶어요.\n",
      "유사도: 0.6675955057144165\n",
      "----------------------------------------------------------------------------------------------------\n",
      "사용자 질문: 배송조회는 어떻게 하나요?\n",
      "유사 질문: 상품의 '배송' 정보는 어떻게 등록하나요?\n",
      "유사도: 0.8203955888748169\n",
      "----------------------------------------------------------------------------------------------------\n",
      "사용자 질문: 판매수수료는 어떻게 볼 수 있나요?\n",
      "유사 질문: 판매자 등급의 판매건수, 판매금액 산정 기준이 어떻게 되나요?\n",
      "유사도: 0.8194286823272705\n",
      "----------------------------------------------------------------------------------------------------\n",
      "사용자 질문: 계정을 탈퇴하고 싶어요\n",
      "유사 질문: 정산중지 설정이 되어있는데, 회원 탈퇴를 하고 싶습니다.\n",
      "유사도: 0.7287201881408691\n",
      "----------------------------------------------------------------------------------------------------\n",
      "사용자 질문: 오늘 날씨는 어때요?\n",
      "유사 질문: 오늘출발 가능수량은 어떻게 되나요?\n",
      "유사도: 0.5355784893035889\n",
      "----------------------------------------------------------------------------------------------------\n",
      "사용자 질문: 여의도 근처 맛집 추천 좀 해주세요.\n",
      "유사 질문: [정책지원금] 추천 등록할 사업자가 많은데 한번에 등록하는 기능은 없을까요?\n",
      "유사도: 0.38003140687942505\n",
      "----------------------------------------------------------------------------------------------------\n",
      "사용자 질문: BTS 멤버는 몇 명인가요?\n",
      "유사 질문: Today 방문자 집계 기준은  어떻게 되나요?\n",
      "유사도: 0.3792976140975952\n",
      "----------------------------------------------------------------------------------------------------\n"
     ]
    }
   ],
   "source": [
    "for question in questions:\n",
    "    # 사용자 질문을 벡터로 변환\n",
    "    query_embedding = model.encode(question, convert_to_tensor=True)\n",
    "    \n",
    "    # FAQ 데이터와 코사인 유사도 계산\n",
    "    scores = util.pytorch_cos_sim(query_embedding, faq_embeddings)\n",
    "    \n",
    "    # 가장 높은 유사도를 가진 FAQ 질문의 인덱스 및 점수 반환\n",
    "    best_idx = scores.argmax().item()\n",
    "    print(\"사용자 질문: %s\"%question)\n",
    "    print(\"유사 질문: %s\"%faq_questions[best_idx])\n",
    "    print(\"유사도: %s\"%scores[0][best_idx].item())\n",
    "    print(\"-\"*100)"
   ]
  }
 ],
 "metadata": {
  "kernelspec": {
   "display_name": "csu",
   "language": "python",
   "name": "python3"
  },
  "language_info": {
   "codemirror_mode": {
    "name": "ipython",
    "version": 3
   },
   "file_extension": ".py",
   "mimetype": "text/x-python",
   "name": "python",
   "nbconvert_exporter": "python",
   "pygments_lexer": "ipython3",
   "version": "3.8.19"
  }
 },
 "nbformat": 4,
 "nbformat_minor": 2
}
