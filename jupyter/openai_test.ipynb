{
 "cells": [
  {
   "cell_type": "code",
   "execution_count": 11,
   "metadata": {},
   "outputs": [],
   "source": [
    "import asyncio\n",
    "from openai import OpenAI, AsyncOpenAI\n",
    "import json\n",
    "import os\n",
    "from dotenv import load_dotenv\n",
    "# .env 파일 경로 지정\n",
    "dotenv_path = os.path.join(\"./\", '.env')\n",
    "# .env 파일 로드\n",
    "load_dotenv(dotenv_path)\n",
    "import pickle\n",
    "import random"
   ]
  },
  {
   "cell_type": "code",
   "execution_count": 9,
   "metadata": {},
   "outputs": [],
   "source": [
    "# pkl 파일 로드\n",
    "file_path = \"../data/final_result.pkl\"  # pkl 파일 경로를 지정하세요.\n",
    "\n",
    "with open(file_path, \"rb\") as f:\n",
    "    data = pickle.load(f)"
   ]
  },
  {
   "cell_type": "code",
   "execution_count": 13,
   "metadata": {},
   "outputs": [
    {
     "data": {
      "text/plain": [
       "(\"'반품배송비'가 상품주문번호마다 확인됩니다. 반품배송비가 중복 결제되었나요?\",\n",
       " \"상품주문번호 마다 '반품배송비'가 노출 되나, '배송비 묶음번호'로 총 결제된 반품배송비를 확인할 수 있습니다.즉, 상품주문번호마다 '배송비 묶음번호'가 동일하면 배송비는 한번 부과됩니다.\\xa0\\xa0\\xa0\\xa0\\xa0\\xa0\\xa0\\xa0\\xa0반품배송비 동시 청구건 확인 방법1. [판매관리 > 반품관리] 메뉴로 접속합니다.2. 반품배송비 확인이 필요한 해당 주문건 조회해 주세요.3. 목록 스크롤바를 우측으로 이동하면 '반품배송비'영역을\\xa0클릭해 주세요.4. 반품배송비 동시 청구건일 경우 반품상품 목록에 함께 노출되며, 반품 상품 상세 클릭 시 상품주문번호 및 상품명이 확인됩니다. ※ 참고.반품배송비 이외에 추가로 발생한 금액 청구는 아래 도움말을 참고해 주세요.기타반품비용 청구 방법 도움말 보러가기》 \\xa0\\xa0\\xa0\\xa0\\xa0\\xa0\\xa0\\xa0\\xa0\\n\\n\\n위 도움말이 도움이 되었나요?\\n\\n\\n별점1점\\n\\n별점2점\\n\\n별점3점\\n\\n별점4점\\n\\n별점5점\\n\\n\\n\\n소중한 의견을 남겨주시면 보완하도록 노력하겠습니다.\\n\\n보내기\\n\\n\\n\\n도움말 닫기\")"
      ]
     },
     "execution_count": 13,
     "metadata": {},
     "output_type": "execute_result"
    }
   ],
   "source": [
    "random_question = random.choice(list(data.keys()))\n",
    "random_answer = data[random_question]\n",
    "random_question, random_answer"
   ]
  },
  {
   "cell_type": "code",
   "execution_count": 4,
   "metadata": {},
   "outputs": [
    {
     "data": {
      "text/plain": [
       "{'user1': '\\nQ: 안녕하세요 당신을 소개해 주시겠어요?\\nA: 안녕하세요! 저는 여러분의 질문에 답변하고 다양한 주제에 대해 도움을 드리기 위해 만들어진 인공지능 어시스턴트입니다. 어떤 정보를 찾고 계시거나 궁금한 점이 있으면 언제든지 물어봐 주세요!\\nQ: 스마트스토어에서 상품 등록은 어떻게 하나요\\nA: 스마트스토어 로고는 [스토어 전시관리 > 스마트스토어 > 컴포넌트 관리]\\xa0메뉴에서 등록할 수 있습니다. 컴포넌트 관리 내 푸터 영역을 통해 스토어 로고를 등록해 주세요.※ 참고.\\xa0스토어 로고 이미지는 PC홈 하단에서 노출되며, 검수없이 바로 저장할 수 있습니다.\\xa0\\xa0\\n\\n\\n위 도움말이 도움이 되었나요?\\n\\n\\n별점1점\\n\\n별점2점\\n\\n별점3점\\n\\n별점4점\\n\\n별점5점\\n\\n\\n\\n소중한 의견을 남겨주시면 보완하도록 노력하겠습니다.\\n\\n보내기\\n\\n\\n\\n도움말 닫기\\nQ: 스마트스토어에서 상품 등록은 어떻게 하나요\\nA: 스마트스토어 로고는 [스토어 전시관리 > 스마트스토어 > 컴포넌트 관리]\\xa0메뉴에서 등록할 수 있습니다. 컴포넌트 관리 내 푸터 영역을 통해 스토어 로고를 등록해 주세요.※ 참고.\\xa0스토어 로고 이미지는 PC홈 하단에서 노출되며, 검수없이 바로 저장할 수 있습니다.\\xa0\\xa0\\n\\n\\n위 도움말이 도움이 되었나요?\\n\\n\\n별점1점\\n\\n별점2점\\n\\n별점3점\\n\\n별점4점\\n\\n별점5점\\n\\n\\n\\n소중한 의견을 남겨주시면 보완하도록 노력하겠습니다.\\n\\n보내기\\n\\n\\n\\n도움말 닫기\\nQ: 스마트스토어에서 상품 등록은 어떻게 하나요\\nA: 스마트스토어 로고는 [스토어 전시관리 > 스마트스토어 > 컴포넌트 관리]\\xa0메뉴에서 등록할 수 있습니다. 컴포넌트 관리 내 푸터 영역을 통해 스토어 로고를 등록해 주세요.※ 참고.\\xa0스토어 로고 이미지는 PC홈 하단에서 노출되며, 검수없이 바로 저장할 수 있습니다.\\xa0\\xa0\\n\\n\\n위 도움말이 도움이 되었나요?\\n\\n\\n별점1점\\n\\n별점2점\\n\\n별점3점\\n\\n별점4점\\n\\n별점5점\\n\\n\\n\\n소중한 의견을 남겨주시면 보완하도록 노력하겠습니다.\\n\\n보내기\\n\\n\\n\\n도움말 닫기\\nQ: 스마트스토어에서 상품 등록은 어떻게 하나요\\nA: 스마트스토어 로고는 [스토어 전시관리 > 스마트스토어 > 컴포넌트 관리]\\xa0메뉴에서 등록할 수 있습니다. 컴포넌트 관리 내 푸터 영역을 통해 스토어 로고를 등록해 주세요.※ 참고.\\xa0스토어 로고 이미지는 PC홈 하단에서 노출되며, 검수없이 바로 저장할 수 있습니다.\\xa0\\xa0\\n\\n\\n위 도움말이 도움이 되었나요?\\n\\n\\n별점1점\\n\\n별점2점\\n\\n별점3점\\n\\n별점4점\\n\\n별점5점\\n\\n\\n\\n소중한 의견을 남겨주시면 보완하도록 노력하겠습니다.\\n\\n보내기\\n\\n\\n\\n도움말 닫기',\n",
       " 'user2': \"\\nQ: 결제 수단은 어떻게 설정하나요\\nA: 모든 솔루션은 회차 단위로 월마다 정기결제 됩니다.\\xa0선불형인 충전식 결제이기 때문에 반드시 Npay 비즈월렛에서 '결제금액 이상의 잔액'이 있어야만 정상적으로 서비스 결제/이용이 가능합니다.\\xa0결제가 실패되어 이용 중인 서비스가 해지되지 않도록, 결제전/결제실패 시 알림을 드리니 참고해 주세요.\\n\\n\\n위 도움말이 도움이 되었나요?\\n\\n\\n별점1점\\n\\n별점2점\\n\\n별점3점\\n\\n별점4점\\n\\n별점5점\\n\\n\\n\\n소중한 의견을 남겨주시면 보완하도록 노력하겠습니다.\\n\\n보내기\\n\\n\\n\\n도움말 닫기\\nQ: 결제 수단은 어떻게 설정하나요\\nA: 모든 솔루션은 회차 단위로 월마다 정기결제 됩니다.\\xa0선불형인 충전식 결제이기 때문에 반드시 Npay 비즈월렛에서 '결제금액 이상의 잔액'이 있어야만 정상적으로 서비스 결제/이용이 가능합니다.\\xa0결제가 실패되어 이용 중인 서비스가 해지되지 않도록, 결제전/결제실패 시 알림을 드리니 참고해 주세요.\\n\\n\\n위 도움말이 도움이 되었나요?\\n\\n\\n별점1점\\n\\n별점2점\\n\\n별점3점\\n\\n별점4점\\n\\n별점5점\\n\\n\\n\\n소중한 의견을 남겨주시면 보완하도록 노력하겠습니다.\\n\\n보내기\\n\\n\\n\\n도움말 닫기\"}"
      ]
     },
     "execution_count": 4,
     "metadata": {},
     "output_type": "execute_result"
    }
   ],
   "source": [
    "file_path = \"../data/conversation_history.json\"\n",
    "# JSON 파일 불러오기\n",
    "with open(file_path, \"r\", encoding=\"utf-8-sig\") as f:\n",
    "    try:\n",
    "        conversation_history = json.load(f)\n",
    "    except json.JSONDecodeError:\n",
    "        conversation_history = dict()\n",
    "        \n",
    "conversation_history"
   ]
  },
  {
   "cell_type": "code",
   "execution_count": 6,
   "metadata": {},
   "outputs": [
    {
     "data": {
      "text/plain": [
       "'\\nQ: 안녕하세요 당신을 소개해 주시겠어요?\\nA: 안녕하세요! 저는 여러분의 질문에 답변하고 다양한 주제에 대해 도움을 드리기 위해 만들어진 인공지능 어시스턴트입니다. 어떤 정보를 찾고 계시거나 궁금한 점이 있으면 언제든지 물어봐 주세요!\\nQ: 스마트스토어에서 상품 등록은 어떻게 하나요\\nA: 스마트스토어 로고는 [스토어 전시관리 > 스마트스토어 > 컴포넌트 관리]\\xa0메뉴에서 등록할 수 있습니다. 컴포넌트 관리 내 푸터 영역을 통해 스토어 로고를 등록해 주세요.※ 참고.\\xa0스토어 로고 이미지는 PC홈 하단에서 노출되며, 검수없이 바로 저장할 수 있습니다.\\xa0\\xa0\\n\\n\\n위 도움말이 도움이 되었나요?\\n\\n\\n별점1점\\n\\n별점2점\\n\\n별점3점\\n\\n별점4점\\n\\n별점5점\\n\\n\\n\\n소중한 의견을 남겨주시면 보완하도록 노력하겠습니다.\\n\\n보내기\\n\\n\\n\\n도움말 닫기\\nQ: 스마트스토어에서 상품 등록은 어떻게 하나요\\nA: 스마트스토어 로고는 [스토어 전시관리 > 스마트스토어 > 컴포넌트 관리]\\xa0메뉴에서 등록할 수 있습니다. 컴포넌트 관리 내 푸터 영역을 통해 스토어 로고를 등록해 주세요.※ 참고.\\xa0스토어 로고 이미지는 PC홈 하단에서 노출되며, 검수없이 바로 저장할 수 있습니다.\\xa0\\xa0\\n\\n\\n위 도움말이 도움이 되었나요?\\n\\n\\n별점1점\\n\\n별점2점\\n\\n별점3점\\n\\n별점4점\\n\\n별점5점\\n\\n\\n\\n소중한 의견을 남겨주시면 보완하도록 노력하겠습니다.\\n\\n보내기\\n\\n\\n\\n도움말 닫기\\nQ: 스마트스토어에서 상품 등록은 어떻게 하나요\\nA: 스마트스토어 로고는 [스토어 전시관리 > 스마트스토어 > 컴포넌트 관리]\\xa0메뉴에서 등록할 수 있습니다. 컴포넌트 관리 내 푸터 영역을 통해 스토어 로고를 등록해 주세요.※ 참고.\\xa0스토어 로고 이미지는 PC홈 하단에서 노출되며, 검수없이 바로 저장할 수 있습니다.\\xa0\\xa0\\n\\n\\n위 도움말이 도움이 되었나요?\\n\\n\\n별점1점\\n\\n별점2점\\n\\n별점3점\\n\\n별점4점\\n\\n별점5점\\n\\n\\n\\n소중한 의견을 남겨주시면 보완하도록 노력하겠습니다.\\n\\n보내기\\n\\n\\n\\n도움말 닫기\\nQ: 스마트스토어에서 상품 등록은 어떻게 하나요\\nA: 스마트스토어 로고는 [스토어 전시관리 > 스마트스토어 > 컴포넌트 관리]\\xa0메뉴에서 등록할 수 있습니다. 컴포넌트 관리 내 푸터 영역을 통해 스토어 로고를 등록해 주세요.※ 참고.\\xa0스토어 로고 이미지는 PC홈 하단에서 노출되며, 검수없이 바로 저장할 수 있습니다.\\xa0\\xa0\\n\\n\\n위 도움말이 도움이 되었나요?\\n\\n\\n별점1점\\n\\n별점2점\\n\\n별점3점\\n\\n별점4점\\n\\n별점5점\\n\\n\\n\\n소중한 의견을 남겨주시면 보완하도록 노력하겠습니다.\\n\\n보내기\\n\\n\\n\\n도움말 닫기'"
      ]
     },
     "execution_count": 6,
     "metadata": {},
     "output_type": "execute_result"
    }
   ],
   "source": [
    "user_id = \"user1\"\n",
    "# 대화 기록 가져오기 \n",
    "context = conversation_history.get(user_id, \"\")\n",
    "context"
   ]
  },
  {
   "cell_type": "code",
   "execution_count": 25,
   "metadata": {},
   "outputs": [],
   "source": [
    "score = 0.2\n",
    "random_question = \"잠실에서 여의도까지 차로 몇시간 걸려?\""
   ]
  },
  {
   "cell_type": "code",
   "execution_count": 26,
   "metadata": {},
   "outputs": [],
   "source": [
    "# 유사도가 낮을 경우 처리 (관련 질문을 두 개 제안)\n",
    "if score < 0.55:\n",
    "    prompt = f\"\"\"\n",
    "    You are the Naver Smart Store FAQ chatbot.\n",
    "    Context: {context}\n",
    "    The following answer was found in the FAQ: No relevant answer found.\n",
    "    Question: {random_question}\n",
    "    Please suggest two related questions that the user may be interested in, based on the context of the Naver Smart Store FAQ.\n",
    "    These questions should be in Korean, and relevant to the user's question and the Naver Smart Store context.\n",
    "    \"\"\"\n",
    "else:\n",
    "    # 유사도가 높을 경우 처리 (정확한 답변과 관련 질문 제안)\n",
    "    prompt = f\"\"\"\n",
    "    You are the Naver Smart Store FAQ chatbot.\n",
    "    Context: {context}\n",
    "    The following answer was found in the FAQ: {random_answer}\n",
    "    Question: {random_question}\n",
    "    Please provide the following:\n",
    "    1. A concise and accurate response to the user's question based on the context and FAQ answer.\n",
    "    2. Two related questions in Korean that the user may be interested in, based on the context. These questions should be relevant to the user's question and context.\n",
    "\n",
    "    Please make sure to format the response clearly, with each part labeled separately.\n",
    "    \"\"\""
   ]
  },
  {
   "cell_type": "code",
   "execution_count": 27,
   "metadata": {},
   "outputs": [
    {
     "data": {
      "text/plain": [
       "'1. 스마트스토어에서 배송 시간을 어떻게 관리하나요?\\n2. 스마트스토어에서 물류 배송 옵션을 설정하는 방법이 궁금합니다.'"
      ]
     },
     "execution_count": 27,
     "metadata": {},
     "output_type": "execute_result"
    }
   ],
   "source": [
    "client = OpenAI(\n",
    "    api_key=os.environ.get(\"OPENAI_API_KEY\"),  # This is the default and can be omitted\n",
    ")\n",
    "\n",
    "response = client.chat.completions.create(\n",
    "    messages=[\n",
    "        {\n",
    "            \"role\": \"user\",\n",
    "            \"content\": prompt,\n",
    "            \"stream\":True\n",
    "        }\n",
    "    ],\n",
    "    model=\"gpt-4o\",\n",
    ")\n",
    "answer = response.choices[0].message.content\n",
    "answer"
   ]
  },
  {
   "cell_type": "code",
   "execution_count": 20,
   "metadata": {},
   "outputs": [],
   "source": [
    "# 대화 기록 업데이트\n",
    "conversation_history[user_id] = context + f\"\\nQ: {random_question}\\nA: {answer}\"\n",
    "file_path = \"../data/conversation_history.json\"\n",
    "# JSON 파일로 저장\n",
    "with open(file_path, \"w\", encoding=\"utf-8\") as f:\n",
    "    json.dump(conversation_history, f, ensure_ascii=False, indent=4)"
   ]
  },
  {
   "cell_type": "code",
   "execution_count": null,
   "metadata": {},
   "outputs": [],
   "source": [
    "# ### script ver\n",
    "# client = AsyncOpenAI(\n",
    "#     api_key=os.environ.get(\"OPENAI_API_KEY\"),  # This is the default and can be omitted\n",
    "# )\n",
    "\n",
    "# async def main(user, content) -> None:\n",
    "#     chat_completion = await client.chat.completions.create(\n",
    "#         messages=[\n",
    "#             {\n",
    "#                 \"role\": user,\n",
    "#                 \"content\": content,\n",
    "#                 \"stream\":True\n",
    "#             }\n",
    "#         ],\n",
    "#         model=\"gpt-4o\",\n",
    "#     )\n",
    "\n",
    "# asyncio.run(main(user=user_id, content=content))"
   ]
  }
 ],
 "metadata": {
  "kernelspec": {
   "display_name": "csu",
   "language": "python",
   "name": "python3"
  },
  "language_info": {
   "codemirror_mode": {
    "name": "ipython",
    "version": 3
   },
   "file_extension": ".py",
   "mimetype": "text/x-python",
   "name": "python",
   "nbconvert_exporter": "python",
   "pygments_lexer": "ipython3",
   "version": "3.8.19"
  }
 },
 "nbformat": 4,
 "nbformat_minor": 2
}
