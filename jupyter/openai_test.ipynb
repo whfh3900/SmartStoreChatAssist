{
 "cells": [
  {
   "cell_type": "code",
   "execution_count": 26,
   "metadata": {},
   "outputs": [
    {
     "data": {
      "text/plain": [
       "False"
      ]
     },
     "execution_count": 26,
     "metadata": {},
     "output_type": "execute_result"
    }
   ],
   "source": [
    "import asyncio\n",
    "from openai import OpenAI, AsyncOpenAI\n",
    "import json\n",
    "import os\n",
    "from dotenv import load_dotenv\n",
    "# .env 파일 경로 지정\n",
    "dotenv_path = os.path.join(\"./\", '.env')\n",
    "# .env 파일 로드\n",
    "load_dotenv(dotenv_path)\n",
    "# openai.api_key = os.environ.get(\"OPENAI_API_KEY\")\n"
   ]
  },
  {
   "cell_type": "code",
   "execution_count": 16,
   "metadata": {},
   "outputs": [],
   "source": [
    "file_path = \"../data/conversation_history.json\"\n",
    "# JSON 파일 불러오기\n",
    "with open(file_path, \"r\", encoding=\"utf-8-sig\") as f:\n",
    "    try:\n",
    "        conversation_history = json.load(f)\n",
    "    except json.JSONDecodeError:\n",
    "        conversation_history = dict()"
   ]
  },
  {
   "cell_type": "code",
   "execution_count": null,
   "metadata": {},
   "outputs": [],
   "source": [
    "user_id = \"user1\"\n",
    "# 대화 기록 가져오기\n",
    "context = conversation_history.get(user_id, \"\")\n"
   ]
  },
  {
   "cell_type": "code",
   "execution_count": 46,
   "metadata": {},
   "outputs": [],
   "source": [
    "question = \"안녕하세요 당신을 소개해 주시겠어요?\"\n",
    "prompt = f\"Context: {context}\\n\\nQuestion: {question}\\n\\nAnswer:\""
   ]
  },
  {
   "cell_type": "code",
   "execution_count": 48,
   "metadata": {},
   "outputs": [],
   "source": [
    "client = OpenAI(\n",
    "    api_key=os.environ.get(\"OPENAI_API_KEY\"),  # This is the default and can be omitted\n",
    ")\n",
    "\n",
    "response = client.chat.completions.create(\n",
    "    messages=[\n",
    "        {\n",
    "            \"role\": \"user\",\n",
    "            \"content\": prompt,\n",
    "            \"stream\":True\n",
    "        }\n",
    "    ],\n",
    "    model=\"gpt-4o\",\n",
    ")\n",
    "answer = response.choices[0].message.content"
   ]
  },
  {
   "cell_type": "code",
   "execution_count": 49,
   "metadata": {},
   "outputs": [],
   "source": [
    "# 대화 기록 업데이트\n",
    "conversation_history[user_id] = context + f\"\\nQ: {question}\\nA: {answer}\"\n",
    "file_path = \"../data/conversation_history.json\"\n",
    "# JSON 파일로 저장\n",
    "with open(file_path, \"w\", encoding=\"utf-8\") as f:\n",
    "    json.dump(conversation_history, f, ensure_ascii=False, indent=4)"
   ]
  },
  {
   "cell_type": "code",
   "execution_count": null,
   "metadata": {},
   "outputs": [],
   "source": [
    "#### script ver\n",
    "# client = AsyncOpenAI(\n",
    "#     api_key=os.environ.get(\"OPENAI_API_KEY\"),  # This is the default and can be omitted\n",
    "# )\n",
    "\n",
    "# async def main(user, content) -> None:\n",
    "#     chat_completion = await client.chat.completions.create(\n",
    "#         messages=[\n",
    "#             {\n",
    "#                 \"role\": user,\n",
    "#                 \"content\": content,\n",
    "#                 \"stream\":True\n",
    "#             }\n",
    "#         ],\n",
    "#         model=\"gpt-4o\",\n",
    "#     )\n",
    "\n",
    "# asyncio.run(main(user=user_id, content=content))"
   ]
  }
 ],
 "metadata": {
  "kernelspec": {
   "display_name": "csu",
   "language": "python",
   "name": "python3"
  },
  "language_info": {
   "codemirror_mode": {
    "name": "ipython",
    "version": 3
   },
   "file_extension": ".py",
   "mimetype": "text/x-python",
   "name": "python",
   "nbconvert_exporter": "python",
   "pygments_lexer": "ipython3",
   "version": "3.8.19"
  }
 },
 "nbformat": 4,
 "nbformat_minor": 2
}
